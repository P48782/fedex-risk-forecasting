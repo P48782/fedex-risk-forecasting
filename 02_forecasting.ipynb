import sys
print(sys.executable)
import pandas as pd
import matplotlib.pyplot as plt
from statsmodels.tsa.statespace.sarimax import SARIMAX

# Load cleaned data
df = pd.read_csv('../data/processed/fedex_cleaned.csv')
df['Pickup_Date'] = pd.to_datetime(df['Pickup_Date'])

# Step 1: Weekly aggregation
weekly_volume = df.resample('W-Mon', on='Pickup_Date').size()

# Step 2: Fit SARIMA model
model = SARIMAX(weekly_volume, order=(1,1,1), seasonal_order=(1,1,1,52))
results = model.fit(disp=False)

# Step 3: Forecast next 12 weeks
forecast = results.get_forecast(steps=12)
forecast_df = forecast.summary_frame()

# Step 4: Move index (dates) into a proper column
forecast_df['Week'] = forecast_df.index

# Step 5: Plot forecast + confidence intervals
plt.figure(figsize=(12, 6))
weekly_volume.plot(label='Observed', color='blue')
forecast_df['mean'].plot(label='Forecast', color='orange')

# FIXED: Add confidence band correctly
plt.fill_between(forecast_df['Week'].to_numpy(),
                 forecast_df['mean_ci_lower'].to_numpy(),
                 forecast_df['mean_ci_upper'].to_numpy(),
                 color='orange', alpha=0.3, label='Confidence Interval')

plt.title('12-Week Shipment Volume Forecast')
plt.xlabel('Week')
plt.ylabel('Shipments')
plt.legend()
plt.tight_layout()
plt.grid(True)
plt.show()


# Step 6: Save for Power BI
forecast_df.to_csv('../data/processed/weekly_forecast.csv', index=False)
